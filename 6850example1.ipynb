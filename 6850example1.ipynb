{
 "cells": [
  {
   "cell_type": "markdown",
   "metadata": {},
   "source": [
    "# First example file for PHY6850"
   ]
  },
  {
   "cell_type": "markdown",
   "metadata": {},
   "source": [
    "## 2D Random Walk\n",
    "Random walk simulation in 2 dimensions"
   ]
  },
  {
   "cell_type": "code",
   "execution_count": null,
   "metadata": {},
   "outputs": [],
   "source": [
    "# Python code for 2D random walk. \n",
    "import numpy \n",
    "import pylab \n",
    "import random \n",
    "  \n",
    "# defining the number of steps \n",
    "n = 100000\n",
    "  \n",
    "#creating two array for containing x and y coordinate \n",
    "#of size equals to the number of size and filled up with 0's \n",
    "x = numpy.zeros(n) \n",
    "y = numpy.zeros(n) \n",
    "  \n",
    "# filling the coordinates with random variables \n",
    "for i in range(1, n): \n",
    "    val = random.randint(1, 4) \n",
    "    if val == 1: \n",
    "        x[i] = x[i - 1] + 1\n",
    "        y[i] = y[i - 1] \n",
    "    elif val == 2: \n",
    "        x[i] = x[i - 1] - 1\n",
    "        y[i] = y[i - 1] \n",
    "    elif val == 3: \n",
    "        x[i] = x[i - 1] \n",
    "        y[i] = y[i - 1] + 1\n",
    "    else: \n",
    "        x[i] = x[i - 1] \n",
    "        y[i] = y[i - 1] - 1\n",
    "\n",
    "# plotting stuff: \n",
    "pylab.title(\"Random Walk ($n = \" + str(n) + \"$ steps)\") \n",
    "pylab.plot(x, y) \n",
    "pylab.savefig(\"rand_walk\"+str(n)+\".png\",bbox_inches=\"tight\",dpi=600) \n",
    "pylab.show()"
   ]
  },
  {
   "cell_type": "markdown",
   "metadata": {},
   "source": [
    "## Van der Waals gas\n",
    "\n",
    "Plot the isotherms for a van der Waals gas in reduced units.\n",
    "The critical point will be at p=V=T=1.\n",
    "The van der Waals equation of state is normally written as\n",
    "   p = RT/(V-b) - a/V^2\n",
    "where a and b are constants for a particular gas.\n",
    "In reduced units the equation of state becomes\n",
    "   p = 8T/(3V-1) - 3/V^2\n",
    "where the reduced units scaled from the original critical point\n",
    "of pc = a/27b^2, Vc = 3b, and Tc = 8a/27Rb.\n",
    "\n"
   ]
  },
  {
   "cell_type": "code",
   "execution_count": null,
   "metadata": {},
   "outputs": [],
   "source": [
    "\n",
    "#from pylab import plot,show,ylim\n",
    "#from numpy import linspace\n",
    "\n",
    "import matplotlib.pyplot as plt\n",
    "import numpy as np\n",
    "\n",
    "for i in range(10,50):\n",
    "    T = i/25.0\n",
    "    V = np.linspace(0.334, 3, 100)\n",
    "    p = 8.*T/(3.*V - 1.) - 3./V/V\n",
    "    plt.plot(V,p)\n",
    "plt.axis([0, 3.0, 0.0, 2.0])\n",
    "plt.xlabel(\"V/Vc\")\n",
    "plt.ylabel(\"p/pc\")\n",
    "plt.show()\n",
    "\n"
   ]
  },
  {
   "cell_type": "code",
   "execution_count": null,
   "metadata": {},
   "outputs": [],
   "source": []
  }
 ],
 "metadata": {
  "kernelspec": {
   "display_name": "Python 3",
   "language": "python",
   "name": "python3"
  },
  "language_info": {
   "codemirror_mode": {
    "name": "ipython",
    "version": 3
   },
   "file_extension": ".py",
   "mimetype": "text/x-python",
   "name": "python",
   "nbconvert_exporter": "python",
   "pygments_lexer": "ipython3",
   "version": "3.9.1"
  }
 },
 "nbformat": 4,
 "nbformat_minor": 4
}
